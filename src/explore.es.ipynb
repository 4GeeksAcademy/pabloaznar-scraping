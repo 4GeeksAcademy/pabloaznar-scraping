{
    "cells": [
        {
            "cell_type": "markdown",
            "metadata": {},
            "source": [
                "## Importamos las librerias\n",
                "\n"
            ]
        },
        {
            "cell_type": "code",
            "execution_count": 1,
            "metadata": {},
            "outputs": [],
            "source": [
                "import os\n",
                "from bs4 import BeautifulSoup\n",
                "import requests\n",
                "import time\n",
                "import sqlite3\n",
                "import matplotlib.pyplot as plt\n",
                "import seaborn as sns\n",
                "import pandas as pd\n",
                "\n"
            ]
        },
        {
            "cell_type": "markdown",
            "metadata": {},
            "source": [
                "## Declaramos las funciones, en este caso declararemos la funcion buscador, que buscara un string en una lista "
            ]
        },
        {
            "cell_type": "code",
            "execution_count": 3,
            "metadata": {},
            "outputs": [],
            "source": [
                "def seeker (string, title_list):\n",
                "    for title in title_list:\n",
                "        if string in title.lower():\n",
                "            print(title)\n"
            ]
        },
        {
            "cell_type": "markdown",
            "metadata": {},
            "source": [
                "## De la categoria muebles de la web extraemos todos los titulos (ordenados por produtos populares) y aplicamos la funcion buscador para que busque el string que queremos dentro del titulo de cada producto"
            ]
        },
        {
            "cell_type": "code",
            "execution_count": 4,
            "metadata": {},
            "outputs": [
                {
                    "name": "stdout",
                    "output_type": "stream",
                    "text": [
                        "Mesa de centro redonda Ø120 cm en madera reciclada Juvira\n",
                        "Mesa de centro cuadrada 100x100 cm en madera reciclada Juvira\n",
                        "Mesa de centro rectangular 120x60 cm en madera reciclada Juvira\n",
                        "Mesa de centro rectangular 110x70 cm en travertino y madera de acacia Casilda\n",
                        "Mesa de centro redonda en piedra natural y madera de mango Lavinia\n",
                        "Mesa de centro ovalada 110x70 cm en madera de mango Agathe\n",
                        "Mesa de centro ovalada 110x60 cm en madera de mango Sidney\n"
                    ]
                }
            ],
            "source": [
                "url = 'https://www.sklum.com/es/524-comprar-mobiliario?gad_source=1&gad_campaignid=17960844142&gbraid=0AAAAADMZ35JfWH89MugVl1F3KR3jKvEg6&gclid=Cj0KCQjwuvrBBhDcARIsAKRrkjeuwyXC-Sq59GYegvS43taIuRXWzI-xSsHyHk3pyg9AoAoo5JB-Bp8aAvmfEALw_wcB'\n",
                "response = requests.get(url)\n",
                "titles= []\n",
                "\n",
                "if response.status_code == 200:\n",
                "    soup = BeautifulSoup(response.content)\n",
                "    products = soup.find_all('div', class_='c-product-card__content')\n",
                "    \n",
                "    for product in products:\n",
                "        titles_card = product.find_all('h2', class_ ='c-product-card__title')\n",
                "        titles.append(product.find('a', class_='u-link-quiet').get_text())\n",
                "\n",
                "seeker('mesa de centro',titles)\n"
            ]
        }
    ],
    "metadata": {
        "kernelspec": {
            "display_name": "Python 3",
            "language": "python",
            "name": "python3"
        },
        "language_info": {
            "codemirror_mode": {
                "name": "ipython",
                "version": 3
            },
            "file_extension": ".py",
            "mimetype": "text/x-python",
            "name": "python",
            "nbconvert_exporter": "python",
            "pygments_lexer": "ipython3",
            "version": "3.11.4"
        },
        "orig_nbformat": 4
    },
    "nbformat": 4,
    "nbformat_minor": 2
}
